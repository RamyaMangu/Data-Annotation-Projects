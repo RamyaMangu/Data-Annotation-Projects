{
  "nbformat": 4,
  "nbformat_minor": 0,
  "metadata": {
    "colab": {
      "name": "Palindrome_Qualification _task#1.ipynb",
      "provenance": [],
      "collapsed_sections": []
    },
    "kernelspec": {
      "name": "python3",
      "display_name": "Python 3"
    },
    "language_info": {
      "name": "python"
    }
  },
  "cells": [
    {
      "cell_type": "code",
      "execution_count": null,
      "metadata": {
        "id": "ttbjvh_XR3uO"
      },
      "outputs": [],
      "source": [
        "def is_interesting(string):\n",
        "  if string == '':\n",
        "    return 'None' #empty string then return false\n",
        "  \n",
        "  length = len(string)\n",
        "  for i in range(length):\n",
        "    k = i\n",
        "    count = 0\n",
        "    j  =length - 1\n",
        "    while j >= i+1: #we start from the back of the string to (i+1)th value\n",
        "      if string[j]==string[k]: #if the letters are equal then we increment our k value\n",
        "      #and start counting the number of chars that are equal for us to help in getting the\n",
        "      #substring later\n",
        "        if k!= j: \n",
        "          k = k+1\n",
        "        count = count + 1\n",
        "        if k == j: #if we reached the same char then we have found the string\n",
        "        #so we simply return it\n",
        "          j = j +count\n",
        "          return string[i:j] #return the substring\n",
        "      else:\n",
        "        k = i\n",
        "      j = j-1\n",
        "        \n",
        "  return False #palindrome string not found"
      ]
    }
  ]
}